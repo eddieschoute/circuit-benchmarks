{
 "cells": [
  {
   "cell_type": "markdown",
   "metadata": {
    "slideshow": {
     "slide_type": "slide"
    }
   },
   "source": [
    "# Benchmarking circuits for Qiskit\n",
    "\n",
    "![Qiskit logo](img/qiskit-heading.png)"
   ]
  },
  {
   "cell_type": "markdown",
   "metadata": {},
   "source": [
    "This work provides a collection of quantum circuits that can be used to benchmark Qiskit, to keep track of the impact of the changes on its performance as codebase evolves or simply assert it at a given point in time.\n",
    "\n",
    "The quantum circuits provided both span useful building blocks for larger quantum circuits, as well as application-related circuits. A few examples of the currently available ones are:\n",
    "\n",
    "- random circuits\n",
    "- QFT\n",
    "- n-Toffoli gate\n",
    "- variational circuits for quantum chemistry (UCCSD)\n",
    "\n",
    "Users can compute various metrics on these `QuantumCircuit` objects by accesing for example their width, depth, gate count, or runtime on either a simulator or QPU, before or after optimizations are performed. These metrics can then be used to assert the performance of various modules of Qiskit, or the feasibility of an approach on a backend with limited capabilities such as memory or coherence time.\n",
    "\n",
    "These circuits have parameters, so that one can observe how the desired metrics scale with input size.\n",
    "\n",
    "This list can be expanded to various other types of circuits such as adders, Grover for a random oracle, magic state factory, quantum error-correcting code and many others."
   ]
  },
  {
   "cell_type": "markdown",
   "metadata": {
    "slideshow": {
     "slide_type": "slide"
    }
   },
   "source": [
    "## General-purpose quantum circuits\n",
    "\n",
    "These circuits are building blocks that are used in a wide array or larger circuits. They are formulated at the highest-level of abstraction."
   ]
  },
  {
   "cell_type": "code",
   "execution_count": null,
   "metadata": {},
   "outputs": [],
   "source": [
    "from circuit_benchmarks.toffoli import toffoli\n",
    "print(toffoli(4))"
   ]
  },
  {
   "cell_type": "code",
   "execution_count": null,
   "metadata": {},
   "outputs": [],
   "source": [
    "pm = Pass"
   ]
  },
  {
   "cell_type": "markdown",
   "metadata": {},
   "source": [
    "## Application-specific quantum circuits\n",
    "\n",
    "These circuits directly provide a way for users to benchmark the performance of Qiskit over particular applications of interest, and evaluate the feasibility of an approach on a target hardware, for example (runtime, hardware constraints on quantum volume...)."
   ]
  },
  {
   "cell_type": "code",
   "execution_count": null,
   "metadata": {},
   "outputs": [],
   "source": []
  },
  {
   "cell_type": "code",
   "execution_count": null,
   "metadata": {},
   "outputs": [],
   "source": [
    "from qiskit.circuit import QuantumCircuit\n",
    "from qiskit.mapper import CouplingMap, swap_mapper\n",
    "from qiskit.tools.parallel import parallel_map\n",
    "from qiskit.converters import circuit_to_dag\n",
    "from qiskit.converters import dag_to_circuit\n",
    "from qiskit.extensions.standard import SwapGate\n",
    "from qiskit.mapper import Layout\n",
    "from qiskit.transpiler.passes.unroller import Unroller\n",
    "\n",
    "from qiskit.transpiler.passes.cx_cancellation import CXCancellation\n",
    "from qiskit.transpiler.passes.decompose import Decompose\n",
    "from qiskit.transpiler.passes.optimize_1q_gates import Optimize1qGates\n",
    "from qiskit.transpiler.passes.mapping.barrier_before_final_measurements import BarrierBeforeFinalMeasurements\n",
    "from qiskit.transpiler.passes.mapping.check_cnot_direction import CheckCnotDirection\n",
    "from qiskit.transpiler.passes.mapping.cx_direction import CXDirection\n",
    "from qiskit.transpiler.passes.mapping.dense_layout import DenseLayout\n",
    "from qiskit.transpiler.passes.mapping.trivial_layout import TrivialLayout\n",
    "from qiskit.dagcircuit import DAGCircuit\n",
    "\n",
    "basis_gates = ['u1','u2','u3','cx','id']\n",
    "# An example of UCCSD circuit for a given molecular system and basis, printed?\n",
    "def default_map(dag, coupling):\n",
    "    dag = Unroller(basis_gates).run(dag)\n",
    "    dag = BarrierBeforeFinalMeasurements().run(dag)\n",
    "    \n",
    "    check_cnot_direction = CheckCnotDirection(coupling)\n",
    "    check_cnot_direction.run(dag)\n",
    "    if check_cnot_direction.property_set['is_direction_mapped']:\n",
    "        trivial_layout = TrivialLayout(coupling)\n",
    "        trivial_layout.run(dag)\n",
    "        initial_layout = trivial_layout.property_set['layout']\n",
    "    else:\n",
    "        dense_layout = DenseLayout(coupling)\n",
    "        dense_layout.run(dag)\n",
    "        initial_layout = dense_layout.property_set['layout']\n",
    "\n",
    "\n",
    "    dag, final_layout = swap_mapper(\n",
    "        dag, coupling, initial_layout, trials=20, seed=seed_mapper)\n",
    "    # Expand swaps\n",
    "    dag = Decompose(SwapGate).run(dag)\n",
    "    # Change cx directions\n",
    "    dag = CXDirection(coupling).run(dag)\n",
    "    # Simplify cx gates\n",
    "    dag = CXCancellation().run(dag)\n",
    "    # Unroll to the basis\n",
    "    dag = Unroller(['u1', 'u2', 'u3', 'id', 'cx']).run(dag)\n",
    "    # Simplify single qubit gates\n",
    "    dag = Optimize1qGates().run(dag)\n",
    "    return dag\n",
    "\n",
    "from qiskit.transpiler.passes import LookaheadSwap\n",
    "def lookahead_map(dag, coupling):\n",
    "    dag = Unroller(basis_gates).run(dag)\n",
    "    dag = BarrierBeforeFinalMeasurements().run(dag)\n",
    "\n",
    "    la_swap = LookaheadSwap(coupling)\n",
    "    la_swap.run(dag)\n",
    "    # Expand swaps\n",
    "    dag = Decompose(SwapGate).run(dag)\n",
    "    # Change cx directions\n",
    "    dag = CXDirection(coupling).run(dag)\n",
    "    # Simplify cx gates\n",
    "    dag = CXCancellation().run(dag)\n",
    "    # Unroll to the basis\n",
    "    dag = Unroller(['u1', 'u2', 'u3', 'id', 'cx']).run(dag)\n",
    "    # Simplify single qubit gates\n",
    "    dag = Optimize1qGates().run(dag)\n",
    "    return dag"
   ]
  },
  {
   "cell_type": "code",
   "execution_count": null,
   "metadata": {},
   "outputs": [],
   "source": [
    "from circuit_benchmarks.qft import qft\n",
    "from qiskit.converters import circuit_to_dag\n",
    "qft8 = qft(8)\n",
    "dag = circuit_to_dag(qft8)\n",
    "default_map(dag, CouplingMap())"
   ]
  },
  {
   "cell_type": "markdown",
   "metadata": {},
   "source": [
    "### Varitonal circuits in quantum chemistry\n",
    "\n",
    "Some of these circuits are tied to a given problem, defined for example by a molecule and a basis set. The number of qubits required by these circuits, as well as the number of parameters used for the variational search is then determined accordingly. That is, these circuits cannot be simply fully-defined by a number of qubits provided as input; this is the case of the UCCSD variational form, for example. However, one can still observe how different metrics scale for these circuits by varying problem size (e.g the molecule or basis set), which makes sense for users that are focused on concrete applications in the field."
   ]
  },
  {
   "cell_type": "code",
   "execution_count": null,
   "metadata": {},
   "outputs": [],
   "source": [
    "import numpy as np\n",
    "from qiskit_chemistry.drivers import PySCFDriver, UnitsType\n",
    "from UCCSD import UCCSD_qc\n",
    "\n",
    "# A list of molecules to use in benchmarking (can be grown larger by Qiskit users)\n",
    "H2 = 'H .0 .0 .0; H .0 .0 0.735'\n",
    "LiH = 'Li .0 .0 .0; H .0 .0 1.6'\n",
    "NaH = 'Na .0 .0 .0; H .0 .0 1.9'\n",
    "molecules = [H2, LiH, NaH]\n",
    "\n",
    "# A list of bases to use in benchmarking (can be grown larger by Qiskit users)\n",
    "bases = ['sto3g', '631g', 'ccpVDZ']"
   ]
  },
  {
   "cell_type": "code",
   "execution_count": null,
   "metadata": {},
   "outputs": [],
   "source": [
    "# How the resource required by a quantum circuit scale with molecule size, for a given basis\n",
    "for m in molecules:\n",
    "    print(\"Molecule ---- \")\n",
    "    qc = UCCSD_qc((m, 'sto3g', UnitsType.ANGSTROM), active_occupied=[], active_unoccupied=[],\n",
    "                   map_type='parity', two_qubit_reduction=False,\n",
    "                   depth=1)\n",
    "    print(qc.width(), qc.depth(), qc.size())\n",
    "    print(qc.count_ops())"
   ]
  },
  {
   "cell_type": "code",
   "execution_count": null,
   "metadata": {},
   "outputs": [],
   "source": [
    "# How the resource required by a quantum circuit scale with basis size, for a given molecule\n",
    "for b in bases:\n",
    "    print(\"Quantum circuit for H2 in \", b, \" basis\")\n",
    "    qc = UCCSD_qc((H2, b, UnitsType.ANGSTROM), active_occupied=[], active_unoccupied=[],\n",
    "                   map_type='parity', two_qubit_reduction=False,\n",
    "                   depth=1)\n",
    "    print(qc.width(), qc.depth(), qc.size())\n",
    "    print(qc.count_ops())"
   ]
  },
  {
   "cell_type": "markdown",
   "metadata": {},
   "source": [
    "The code provides functions allowing to generate these UCCSD circuits for various molecules, basis sets and active spaces. The benchmark can be enriched by users, inputing their own problem and adding the corresponding circuit to the benchmark.\n",
    "\n",
    "This approach can be generalized easily to different ansatz, or active spaces, allowing the user to determine what is the best approach to running for example VQE. They could then identiify the feasible approaches on the target hardware, and the parameters yielding the most appealing performance-accuracy trade-off."
   ]
  },
  {
   "cell_type": "markdown",
   "metadata": {
    "slideshow": {
     "slide_type": "slide"
    }
   },
   "source": [
    "# Magic State Factory"
   ]
  },
  {
   "cell_type": "code",
   "execution_count": null,
   "metadata": {
    "slideshow": {
     "slide_type": "skip"
    }
   },
   "outputs": [],
   "source": [
    "from circuit_benchmarks.distillation_protocols import reed_muller_15"
   ]
  },
  {
   "cell_type": "code",
   "execution_count": null,
   "metadata": {
    "slideshow": {
     "slide_type": "subslide"
    }
   },
   "outputs": [],
   "source": [
    "f = reed_muller_15().draw(output='mpl')"
   ]
  },
  {
   "cell_type": "code",
   "execution_count": null,
   "metadata": {
    "slideshow": {
     "slide_type": "subslide"
    }
   },
   "outputs": [],
   "source": [
    "f"
   ]
  }
 ],
 "metadata": {
  "celltoolbar": "Slideshow",
  "kernelspec": {
   "display_name": "Python 3",
   "language": "python",
   "name": "python3"
  },
  "language_info": {
   "codemirror_mode": {
    "name": "ipython",
    "version": 3
   },
   "file_extension": ".py",
   "mimetype": "text/x-python",
   "name": "python",
   "nbconvert_exporter": "python",
   "pygments_lexer": "ipython3",
   "version": "3.7.2"
  }
 },
 "nbformat": 4,
 "nbformat_minor": 2
}
