{
 "cells": [
  {
   "cell_type": "markdown",
   "metadata": {
    "slideshow": {
     "slide_type": "slide"
    }
   },
   "source": [
    "# Benchmarking circuits for Qiskit\n",
    "\n",
    "![Qiskit logo](img/qiskit-heading.png)"
   ]
  },
  {
   "cell_type": "markdown",
   "metadata": {
    "slideshow": {
     "slide_type": "skip"
    }
   },
   "source": [
    "This work provides a collection of quantum circuits that can be used to benchmark Qiskit, to keep track of the impact of the changes on its performance as codebase evolves or simply assert it at a given point in time.\n",
    "\n",
    "The quantum circuits provided both span useful building blocks for larger quantum circuits, as well as application-related circuits. A few examples of the currently available ones are:\n",
    "\n",
    "- random circuits\n",
    "- QFT\n",
    "- n-Toffoli gate\n",
    "- variational circuits for quantum chemistry (UCCSD)\n",
    "\n",
    "Users can compute various metrics on these `QuantumCircuit` objects by accesing for example their width, depth, gate count, or runtime on either a simulator or QPU, before or after optimizations are performed. These metrics can then be used to assert the performance of various modules of Qiskit, or the feasibility of an approach on a backend with limited capabilities such as memory or coherence time.\n",
    "\n",
    "These circuits have parameters, so that one can observe how the desired metrics scale with input size.\n",
    "\n",
    "This list can be expanded to various other types of circuits such as adders, Grover for a random oracle, magic state factory, quantum error-correcting code and many others."
   ]
  },
  {
   "cell_type": "markdown",
   "metadata": {
    "slideshow": {
     "slide_type": "slide"
    }
   },
   "source": [
    "## General-purpose quantum circuits\n",
    "\n",
    "These circuits are building blocks that are used in a wide array or larger circuits. They are formulated at the highest-level of abstraction."
   ]
  },
  {
   "cell_type": "code",
   "execution_count": 1,
   "metadata": {
    "scrolled": true,
    "slideshow": {
     "slide_type": "subslide"
    }
   },
   "outputs": [
    {
     "ename": "QiskitError",
     "evalue": "'expected integer index into register'",
     "output_type": "error",
     "traceback": [
      "\u001b[0;31m---------------------------------------------------------------------------\u001b[0m",
      "\u001b[0;31mQiskitError\u001b[0m                               Traceback (most recent call last)",
      "\u001b[0;32m<ipython-input-1-4841bb789bec>\u001b[0m in \u001b[0;36m<module>\u001b[0;34m\u001b[0m\n\u001b[1;32m      1\u001b[0m \u001b[0;32mfrom\u001b[0m \u001b[0mcircuit_benchmarks\u001b[0m\u001b[0;34m.\u001b[0m\u001b[0mtoffoli\u001b[0m \u001b[0;32mimport\u001b[0m \u001b[0mtoffoli\u001b[0m\u001b[0;34m\u001b[0m\u001b[0;34m\u001b[0m\u001b[0m\n\u001b[0;32m----> 2\u001b[0;31m \u001b[0mtoffoli\u001b[0m\u001b[0;34m(\u001b[0m\u001b[0;36m4\u001b[0m\u001b[0;34m)\u001b[0m\u001b[0;34m.\u001b[0m\u001b[0mdraw\u001b[0m\u001b[0;34m(\u001b[0m\u001b[0;34m)\u001b[0m\u001b[0;34m\u001b[0m\u001b[0;34m\u001b[0m\u001b[0m\n\u001b[0m",
      "\u001b[0;32m~/Desktop/IBM_hackathon/fresh_clone/circuit-benchmarks/circuit_benchmarks/toffoli.py\u001b[0m in \u001b[0;36mtoffoli\u001b[0;34m(number_qubits)\u001b[0m\n\u001b[1;32m     15\u001b[0m     \u001b[0;31m# for i in range(number_qubits-1):\u001b[0m\u001b[0;34m\u001b[0m\u001b[0;34m\u001b[0m\u001b[0;34m\u001b[0m\u001b[0m\n\u001b[1;32m     16\u001b[0m     \u001b[0;31m#     qc.h(controls[i])\u001b[0m\u001b[0;34m\u001b[0m\u001b[0;34m\u001b[0m\u001b[0;34m\u001b[0m\u001b[0m\n\u001b[0;32m---> 17\u001b[0;31m     \u001b[0mqc\u001b[0m\u001b[0;34m.\u001b[0m\u001b[0mntoffoli\u001b[0m\u001b[0;34m(\u001b[0m\u001b[0mq\u001b[0m\u001b[0;34m[\u001b[0m\u001b[0mnumber_qubits\u001b[0m\u001b[0;34m-\u001b[0m\u001b[0;36m1\u001b[0m\u001b[0;34m]\u001b[0m\u001b[0;34m,\u001b[0m \u001b[0;34m*\u001b[0m\u001b[0mq\u001b[0m\u001b[0;34m[\u001b[0m\u001b[0;36m0\u001b[0m\u001b[0;34m:\u001b[0m\u001b[0mnumber_qubits\u001b[0m\u001b[0;34m-\u001b[0m\u001b[0;36m1\u001b[0m\u001b[0;34m]\u001b[0m\u001b[0;34m)\u001b[0m\u001b[0;34m\u001b[0m\u001b[0;34m\u001b[0m\u001b[0m\n\u001b[0m\u001b[1;32m     18\u001b[0m     \u001b[0;31m# qc.measure(controls, c_controls)\u001b[0m\u001b[0;34m\u001b[0m\u001b[0;34m\u001b[0m\u001b[0;34m\u001b[0m\u001b[0m\n\u001b[1;32m     19\u001b[0m     \u001b[0;31m# qc.measure(target, c_target)\u001b[0m\u001b[0;34m\u001b[0m\u001b[0;34m\u001b[0m\u001b[0;34m\u001b[0m\u001b[0m\n",
      "\u001b[0;32m~/Desktop/virtualenvs/IBM_hackathon_scipy/lib/python3.7/site-packages/qiskit/circuit/register.py\u001b[0m in \u001b[0;36m__getitem__\u001b[0;34m(self, key)\u001b[0m\n\u001b[1;32m     74\u001b[0m         \"\"\"\n\u001b[1;32m     75\u001b[0m         \u001b[0;32mif\u001b[0m \u001b[0;32mnot\u001b[0m \u001b[0misinstance\u001b[0m\u001b[0;34m(\u001b[0m\u001b[0mkey\u001b[0m\u001b[0;34m,\u001b[0m \u001b[0mint\u001b[0m\u001b[0;34m)\u001b[0m\u001b[0;34m:\u001b[0m\u001b[0;34m\u001b[0m\u001b[0;34m\u001b[0m\u001b[0m\n\u001b[0;32m---> 76\u001b[0;31m             \u001b[0;32mraise\u001b[0m \u001b[0mQiskitError\u001b[0m\u001b[0;34m(\u001b[0m\u001b[0;34m\"expected integer index into register\"\u001b[0m\u001b[0;34m)\u001b[0m\u001b[0;34m\u001b[0m\u001b[0;34m\u001b[0m\u001b[0m\n\u001b[0m\u001b[1;32m     77\u001b[0m         \u001b[0mself\u001b[0m\u001b[0;34m.\u001b[0m\u001b[0mcheck_range\u001b[0m\u001b[0;34m(\u001b[0m\u001b[0mkey\u001b[0m\u001b[0;34m)\u001b[0m\u001b[0;34m\u001b[0m\u001b[0;34m\u001b[0m\u001b[0m\n\u001b[1;32m     78\u001b[0m         \u001b[0;32mreturn\u001b[0m \u001b[0mself\u001b[0m\u001b[0;34m,\u001b[0m \u001b[0mkey\u001b[0m\u001b[0;34m\u001b[0m\u001b[0;34m\u001b[0m\u001b[0m\n",
      "\u001b[0;31mQiskitError\u001b[0m: 'expected integer index into register'"
     ]
    }
   ],
   "source": [
    "from circuit_benchmarks.toffoli import toffoli\n",
    "toffoli(4).draw()"
   ]
  },
  {
   "cell_type": "code",
   "execution_count": null,
   "metadata": {
    "slideshow": {
     "slide_type": "subslide"
    }
   },
   "outputs": [],
   "source": [
    "from circuit_benchmarks.ripple_adder import ripple_adder\n",
    "ripple_adder(10).draw()"
   ]
  },
  {
   "cell_type": "code",
   "execution_count": null,
   "metadata": {
    "slideshow": {
     "slide_type": "skip"
    }
   },
   "outputs": [],
   "source": [
    "from networkx import grid_2d_graph, hexagonal_lattice_graph, triangular_lattice_graph, to_edgelist, draw, kamada_kawai_layout, convert_node_labels_to_integers\n",
    "\n",
    "def square_grid_adj(n, m):\n",
    "    nxgraph = grid_2d_graph(n, m)\n",
    "    nodelist = list(nxgraph.nodes)\n",
    "    return [[nodelist.index(n1),nodelist.index(n2)] for n1, n2, _ in to_edgelist(nxgraph)]\n",
    "def hex_grid_adj(n, m):\n",
    "    nxgraph = hexagonal_lattice_graph(n, m)\n",
    "    nodelist = list(nxgraph.nodes)\n",
    "    return [[nodelist.index(n1),nodelist.index(n2)] for n1, n2, _ in to_edgelist(nxgraph)]\n",
    "def tri_grid_adj(n, m):\n",
    "    nxgraph = triangular_lattice_graph(n, m)\n",
    "    nodelist = list(nxgraph.nodes)\n",
    "    return [[nodelist.index(n1),nodelist.index(n2)] for n1, n2, _ in to_edgelist(nxgraph)]\n",
    "\n",
    "grid_graphs = [square_grid_adj(n,n) for n in range(2,22)]\n",
    "hex_graphs = [hex_grid_adj(n,n) for n in range(2,22)]\n",
    "tri_graphs = [tri_grid_adj(n,n) for n in range(2,22)]"
   ]
  },
  {
   "cell_type": "code",
   "execution_count": null,
   "metadata": {
    "slideshow": {
     "slide_type": "skip"
    }
   },
   "outputs": [],
   "source": [
    "from qiskit.mapper import CouplingMap\n",
    "\n",
    "grid_couplm = [CouplingMap(l) for l in grid_graphs]\n",
    "hex_couplm =  [CouplingMap(l) for l in hex_graphs]\n",
    "tri_couplm =  [CouplingMap(l) for l in tri_graphs]"
   ]
  },
  {
   "cell_type": "code",
   "execution_count": null,
   "metadata": {},
   "outputs": [],
   "source": [
    "g = grid_2d_graph(3,3)\n",
    "pos = kamada_kawai_layout(g)\n",
    "draw(g, pos)"
   ]
  },
  {
   "cell_type": "code",
   "execution_count": null,
   "metadata": {},
   "outputs": [],
   "source": [
    "g = hexagonal_lattice_graph(3,3)\n",
    "pos = kamada_kawai_layout(g)\n",
    "draw(g, pos)"
   ]
  },
  {
   "cell_type": "code",
   "execution_count": null,
   "metadata": {
    "scrolled": true,
    "slideshow": {
     "slide_type": "skip"
    }
   },
   "outputs": [],
   "source": [
    "from qiskit.circuit import QuantumCircuit\n",
    "from qiskit.mapper import CouplingMap, swap_mapper\n",
    "from qiskit.tools.parallel import parallel_map\n",
    "from qiskit.converters import circuit_to_dag\n",
    "from qiskit.converters import dag_to_circuit\n",
    "from qiskit.extensions.standard import SwapGate\n",
    "from qiskit.mapper import Layout\n",
    "from qiskit.transpiler.passes.unroller import Unroller\n",
    "import copy\n",
    "\n",
    "from qiskit.transpiler.passes.cx_cancellation import CXCancellation\n",
    "from qiskit.transpiler.passes.decompose import Decompose\n",
    "from qiskit.transpiler.passes.optimize_1q_gates import Optimize1qGates\n",
    "from qiskit.transpiler.passes.mapping.barrier_before_final_measurements import BarrierBeforeFinalMeasurements\n",
    "from qiskit.transpiler.passes.mapping.check_cnot_direction import CheckCnotDirection\n",
    "from qiskit.transpiler.passes.mapping.cx_direction import CXDirection\n",
    "from qiskit.transpiler.passes.mapping.dense_layout import DenseLayout\n",
    "from qiskit.transpiler.passes.mapping.trivial_layout import TrivialLayout\n",
    "from qiskit.dagcircuit import DAGCircuit\n",
    "\n",
    "basis_gates = ['u1','u2','u3','cx','id']\n",
    "# An example of UCCSD circuit for a given molecular system and basis, printed?\n",
    "def default_map(dag, coupling):\n",
    "    dag = copy.deepcopy(dag)\n",
    "    dag = Unroller(basis_gates).run(dag)\n",
    "    dag = BarrierBeforeFinalMeasurements().run(dag)\n",
    "    \n",
    "    check_cnot_direction = CheckCnotDirection(coupling)\n",
    "    check_cnot_direction.run(dag)\n",
    "    if check_cnot_direction.property_set['is_direction_mapped']:\n",
    "        trivial_layout = TrivialLayout(coupling)\n",
    "        trivial_layout.run(dag)\n",
    "        initial_layout = trivial_layout.property_set['layout']\n",
    "    else:\n",
    "        dense_layout = DenseLayout(coupling)\n",
    "        dense_layout.run(dag)\n",
    "        initial_layout = dense_layout.property_set['layout']\n",
    "\n",
    "\n",
    "    dag, final_layout = swap_mapper(\n",
    "        dag, coupling, initial_layout, trials=20, seed=seed_mapper)\n",
    "    # Expand swaps\n",
    "    dag = Decompose(SwapGate).run(dag)\n",
    "    # Change cx directions\n",
    "    dag = CXDirection(coupling).run(dag)\n",
    "    # Simplify cx gates\n",
    "    dag = CXCancellation().run(dag)\n",
    "    # Unroll to the basis\n",
    "    dag = Unroller(['u1', 'u2', 'u3', 'id', 'cx']).run(dag)\n",
    "    # Simplify single qubit gates\n",
    "    dag = Optimize1qGates().run(dag)\n",
    "    return dag\n",
    "\n",
    "from qiskit.transpiler.passes import LookaheadSwap\n",
    "def lookahead_map(dag, coupling):\n",
    "    dag = copy.deepcopy(dag)\n",
    "    dag = Unroller(basis_gates).run(dag)\n",
    "    dag = BarrierBeforeFinalMeasurements().run(dag)\n",
    "\n",
    "    la_swap = LookaheadSwap(coupling)\n",
    "    la_swap.run(dag)\n",
    "    # Expand swaps\n",
    "    dag = Decompose(SwapGate).run(dag)\n",
    "    # Change cx directions\n",
    "    dag = CXDirection(coupling).run(dag)\n",
    "    # Simplify cx gates\n",
    "    dag = CXCancellation().run(dag)\n",
    "    # Unroll to the basis\n",
    "    dag = Unroller(['u1', 'u2', 'u3', 'id', 'cx']).run(dag)\n",
    "    # Simplify single qubit gates\n",
    "    dag = Optimize1qGates().run(dag)\n",
    "    return dag"
   ]
  },
  {
   "cell_type": "markdown",
   "metadata": {
    "slideshow": {
     "slide_type": "slide"
    }
   },
   "source": [
    "## QFT Circuits\n",
    "Quantum Fourier Transform is a very important subcircuit for many applications."
   ]
  },
  {
   "cell_type": "code",
   "execution_count": null,
   "metadata": {
    "scrolled": true
   },
   "outputs": [],
   "source": [
    "from circuit_benchmarks.qft import qft\n",
    "\n",
    "for grid in grids:\n",
    "    nr_qubits = grid.size()\n",
    "    qft = qft(nr_qubits)\n",
    "    default_mapped_dag = default_map(qft, grid)\n",
    "    la_mapped_dag = lookahead_map(qft, grid)\n",
    "    \n",
    "dag = circuit_to_dag(qft8)\n",
    "default_map(dag, CouplingMap())"
   ]
  },
  {
   "cell_type": "markdown",
   "metadata": {
    "slideshow": {
     "slide_type": "slide"
    }
   },
   "source": [
    "## Application-specific quantum circuits\n",
    "\n",
    "These circuits directly provide a way for users to benchmark the performance of Qiskit over particular applications of interest, and evaluate the feasibility of an approach on a target hardware, for example (runtime, hardware constraints on quantum volume...)."
   ]
  },
  {
   "cell_type": "markdown",
   "metadata": {},
   "source": [
    "### Varitonal circuits in quantum chemistry\n",
    "\n",
    "Some of these circuits are tied to a given problem, defined for example by a molecule and a basis set. The number of qubits required by these circuits, as well as the number of parameters used for the variational search is then determined accordingly. That is, these circuits cannot be simply fully-defined by a number of qubits provided as input; this is the case of the UCCSD variational form, for example. However, one can still observe how different metrics scale for these circuits by varying problem size (e.g the molecule or basis set), which makes sense for users that are focused on concrete applications in the field."
   ]
  },
  {
   "cell_type": "code",
   "execution_count": 2,
   "metadata": {
    "scrolled": true
   },
   "outputs": [],
   "source": [
    "# A list of molecules to use in benchmarking (can be grown larger by Qiskit users)\n",
    "H2 = 'H .0 .0 .0; H .0 .0 0.735'\n",
    "LiH = 'Li .0 .0 .0; H .0 .0 1.6'\n",
    "NaH = 'Na .0 .0 .0; H .0 .0 1.9'\n",
    "molecules = [H2, LiH, NaH]\n",
    "\n",
    "# A list of bases to use in benchmarking (can be grown larger by Qiskit users)\n",
    "bases = ['sto3g', '631g', 'ccpVDZ']"
   ]
  },
  {
   "cell_type": "code",
   "execution_count": 3,
   "metadata": {
    "scrolled": true
   },
   "outputs": [],
   "source": [
    "import numpy as np\n",
    "from qiskit_chemistry.drivers import PySCFDriver, UnitsType\n",
    "from circuit_benchmarks.UCCSD import UCCSD_qc\n",
    "\n",
    "from qiskit import BasicAer, execute\n",
    "import time\n",
    "\n",
    "# How the q.c width, depth and performance scale with molecule size, for a given basis\n",
    "widths, depths, runtimes = [], [], []\n",
    "for m in molecules:\n",
    "    qc = UCCSD_qc((m, 'sto3g', UnitsType.ANGSTROM), active_occupied=[], active_unoccupied=[],\n",
    "                   map_type='parity', two_qubit_reduction=False,\n",
    "                   depth=1)\n",
    "    widths.append(qc.width())\n",
    "    depths.append(qc.depth())\n",
    "\n",
    "    t_start=time.time()\n",
    "    job = execute(qc, BasicAer.get_backend('statevector_simulator'))\n",
    "    t_elapsed = time.time() - t_start\n",
    "    runtimes.append(t_elapsed)"
   ]
  },
  {
   "cell_type": "markdown",
   "metadata": {},
   "source": [
    "The code provides functions allowing to generate these UCCSD circuits for various molecules, basis sets and active spaces. The benchmark can be enriched by users, inputing their own problem and adding the corresponding circuit to the benchmark.\n",
    "\n",
    "This approach can be generalized easily to different ansatz, or active spaces, allowing the user to determine what is the best approach to running for example VQE. They could then identiify the feasible approaches on the target hardware, and the parameters yielding the most appealing performance-accuracy trade-off."
   ]
  },
  {
   "cell_type": "code",
   "execution_count": 4,
   "metadata": {},
   "outputs": [
    {
     "data": {
      "image/png": "[encoded data removed]",
      "text/plain": [
       "<Figure size 432x288 with 1 Axes>"
      ]
     },
     "metadata": {
      "needs_background": "light"
     },
     "output_type": "display_data"
    }
   ],
   "source": [
    "import matplotlib.pyplot as plt; plt.rcdefaults()\n",
    "import numpy as np\n",
    "import matplotlib.pyplot as plt\n",
    "%matplotlib inline\n",
    "    \n",
    "labels = ('H2', 'LiH', 'NaH')\n",
    "y_pos = np.arange(len(labels))\n",
    "\n",
    "plt.bar(y_pos, widths, align='center', alpha=1.0, color = \"blue\")\n",
    "plt.xticks(y_pos, labels)\n",
    "plt.yticks(widths)\n",
    "plt.ylabel('Number of qubits')\n",
    "plt.title('# qubits with problem size')\n",
    "plt.show()"
   ]
  },
  {
   "cell_type": "code",
   "execution_count": 5,
   "metadata": {},
   "outputs": [
    {
     "data": {
      "image/png": "[encoded data removed]",
      "text/plain": [
       "<Figure size 432x288 with 1 Axes>"
      ]
     },
     "metadata": {
      "needs_background": "light"
     },
     "output_type": "display_data"
    }
   ],
   "source": [
    "plt.bar(y_pos, depths, align='center', alpha=1.0, color = \"red\")\n",
    "plt.xticks(y_pos, labels)\n",
    "plt.yticks(depths)\n",
    "plt.ylabel('Circuit depth')\n",
    "plt.title('Circuit depth with problem size')\n",
    "plt.show()"
   ]
  },
  {
   "cell_type": "code",
   "execution_count": 6,
   "metadata": {},
   "outputs": [
    {
     "data": {
      "image/png": "[encoded data removed]",
      "text/plain": [
       "<Figure size 432x288 with 1 Axes>"
      ]
     },
     "metadata": {
      "needs_background": "light"
     },
     "output_type": "display_data"
    }
   ],
   "source": [
    "plt.bar(y_pos, runtimes, align='center', alpha=1.0, color = \"orange\")\n",
    "plt.xticks(y_pos, labels)\n",
    "plt.yticks(runtimes)\n",
    "plt.ylabel('Runtime (s)')\n",
    "plt.title('Simulation time with problem size (wavefunction simulator)')\n",
    "plt.show()"
   ]
  },
  {
   "cell_type": "markdown",
   "metadata": {
    "slideshow": {
     "slide_type": "slide"
    }
   },
   "source": [
    "# Magic State Factory"
   ]
  },
  {
   "cell_type": "code",
   "execution_count": null,
   "metadata": {
    "scrolled": true,
    "slideshow": {
     "slide_type": "skip"
    }
   },
   "outputs": [],
   "source": [
    "from circuit_benchmarks.distillation_protocols import reed_muller_15"
   ]
  },
  {
   "cell_type": "code",
   "execution_count": null,
   "metadata": {
    "scrolled": true,
    "slideshow": {
     "slide_type": "subslide"
    }
   },
   "outputs": [],
   "source": [
    "f = reed_muller_15().draw(output='mpl')"
   ]
  },
  {
   "cell_type": "code",
   "execution_count": null,
   "metadata": {
    "scrolled": true,
    "slideshow": {
     "slide_type": "subslide"
    }
   },
   "outputs": [],
   "source": [
    "f"
   ]
  }
 ],
 "metadata": {
  "kernelspec": {
   "display_name": "Python 3",
   "language": "python",
   "name": "python3"
  },
  "language_info": {
   "codemirror_mode": {
    "name": "ipython",
    "version": 3
   },
   "file_extension": ".py",
   "mimetype": "text/x-python",
   "name": "python",
   "nbconvert_exporter": "python",
   "pygments_lexer": "ipython3",
   "version": "3.7.1"
  }
 },
 "nbformat": 4,
 "nbformat_minor": 2
}
