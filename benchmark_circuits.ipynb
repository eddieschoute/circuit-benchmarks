{
 "cells": [
  {
   "cell_type": "markdown",
   "metadata": {
    "slideshow": {
     "slide_type": "slide"
    }
   },
   "source": [
    "# Benchmarking circuits for Qiskit\n",
    "\n",
    "![Qiskit logo](img/qiskit-heading.png)"
   ]
  },
  {
   "cell_type": "markdown",
   "metadata": {},
   "source": [
    "This work provides a collection of quantum circuits that can be used to benchmark Qiskit, to keep track of the impact of the changes on its performance as codebase evolves or simply assert it at a given point in time.\n",
    "\n",
    "The quantum circuits provided both span useful building blocks for larger quantum circuits, as well as application-related circuits. A few examples of the currently available ones are:\n",
    "\n",
    "- random circuits\n",
    "- QFT\n",
    "- n-Toffoli gate\n",
    "- variational circuits for quantum chemistry (UCCSD)\n",
    "\n",
    "Users can compute various metrics on these `QuantumCircuit` objects by accesing for example their width, depth, gate count, or runtime on either a simulator or QPU, before or after optimizations are performed. These metrics can then be used to assert the performance of various modules of Qiskit, or the feasibility of an approach on a backend with limited capabilities such as memory or coherence time.\n",
    "\n",
    "These circuits have parameters, so that one can observe how the desired metrics scale with input size.\n",
    "\n",
    "This list can be expanded to various other types of circuits such as adders, Grover for a random oracle, magic state factory, quantum error-correcting code and many others."
   ]
  },
  {
   "cell_type": "markdown",
   "metadata": {
    "slideshow": {
     "slide_type": "slide"
    }
   },
   "source": [
    "## General-purpose quantum circuits\n",
    "\n",
    "These circuits are building blocks that are used in a wide array or larger circuits. They are formulated at the highest-level of abstraction."
   ]
  },
  {
   "cell_type": "code",
   "execution_count": null,
   "metadata": {},
   "outputs": [],
   "source": [
    "from circuit_benchmarks.toffoli import toffoli\n",
    "print(toffoli(4))"
   ]
  },
  {
   "cell_type": "code",
   "execution_count": null,
   "metadata": {
    "slideshow": {
     "slide_type": "skip"
    }
   },
   "outputs": [],
   "source": [
    "from networkx import grid_2d_graph, hexagonal_lattice_graph, triangular_lattice_graph, to_edgelist, draw, kamada_kawai_layout, convert_node_labels_to_integers\n",
    "\n",
    "def square_grid_adj(n, m):\n",
    "    nxgraph = grid_2d_graph(n, m)\n",
    "    nodelist = list(nxgraph.nodes)\n",
    "    return [[nodelist.index(n1),nodelist.index(n2)] for n1, n2, _ in to_edgelist(nxgraph)]\n",
    "def hex_grid_adj(n, m):\n",
    "    nxgraph = hexagonal_lattice_graph(n, m)\n",
    "    nodelist = list(nxgraph.nodes)\n",
    "    return [[nodelist.index(n1),nodelist.index(n2)] for n1, n2, _ in to_edgelist(nxgraph)]\n",
    "def tri_grid_adj(n, m):\n",
    "    nxgraph = triangular_lattice_graph(n, m)\n",
    "    nodelist = list(nxgraph.nodes)\n",
    "    return [[nodelist.index(n1),nodelist.index(n2)] for n1, n2, _ in to_edgelist(nxgraph)]\n",
    "\n",
    "grid_graphs = [square_grid_adj(n,n) for n in range(2,22)]\n",
    "hex_graphs = [hex_grid_adj(n,n) for n in range(2,22)]\n",
    "tri_graphs = [tri_grid_adj(n,n) for n in range(2,22)]"
   ]
  },
  {
   "cell_type": "code",
   "execution_count": null,
   "metadata": {
    "slideshow": {
     "slide_type": "skip"
    }
   },
   "outputs": [],
   "source": [
    "from qiskit.mapper import CouplingMap\n",
    "\n",
    "grid_couplm = [CouplingMap(l) for l in grid_graphs]\n",
    "hex_couplm =  [CouplingMap(l) for l in hex_graphs]\n",
    "tri_couplm =  [CouplingMap(l) for l in tri_graphs]"
   ]
  },
  {
   "cell_type": "code",
   "execution_count": null,
   "metadata": {},
   "outputs": [],
   "source": [
    "g = grid_2d_graph(3,3)\n",
    "pos = kamada_kawai_layout(g)\n",
    "draw(g, pos)"
   ]
  },
  {
   "cell_type": "code",
   "execution_count": null,
   "metadata": {},
   "outputs": [],
   "source": [
    "g = hexagonal_lattice_graph(3,3)\n",
    "pos = kamada_kawai_layout(g)\n",
    "draw(g, pos)"
   ]
  },
  {
   "cell_type": "markdown",
   "metadata": {},
   "source": [
    "## Application-specific quantum circuits\n",
    "\n",
    "These circuits directly provide a way for users to benchmark the performance of Qiskit over particular applications of interest, and evaluate the feasibility of an approach on a target hardware, for example (runtime, hardware constraints on quantum volume...)."
   ]
  },
  {
   "cell_type": "code",
   "execution_count": null,
   "metadata": {},
   "outputs": [],
   "source": [
    "# An example of UCCSD circuit for a given molecular system and basis, printed?"
   ]
  },
  {
   "cell_type": "markdown",
   "metadata": {},
   "source": [
    "### Varitonal circuits in quantum chemistry\n",
    "\n",
    "Some of these circuits are tied to a given problem, defined for example by a molecule and a basis set. The number of qubits required by these circuits, as well as the number of parameters used for the variational search is then determined accordingly. That is, these circuits cannot be simply fully-defined by a number of qubits provided as input; this is the case of the UCCSD variational form, for example. However, one can still observe how different metrics scale for these circuits by varying problem size (e.g the molecule or basis set), which makes sense for users that are focused on concrete applications in the field."
   ]
  },
  {
   "cell_type": "code",
   "execution_count": null,
   "metadata": {},
   "outputs": [],
   "source": [
    "import numpy as np\n",
    "from qiskit_chemistry.drivers import PySCFDriver, UnitsType\n",
    "from UCCSD import UCCSD_qc\n",
    "\n",
    "# A list of molecules to use in benchmarking (can be grown larger by Qiskit users)\n",
    "H2 = 'H .0 .0 .0; H .0 .0 0.735'\n",
    "LiH = 'Li .0 .0 .0; H .0 .0 1.6'\n",
    "NaH = 'Na .0 .0 .0; H .0 .0 1.9'\n",
    "molecules = [H2, LiH, NaH]\n",
    "\n",
    "# A list of bases to use in benchmarking (can be grown larger by Qiskit users)\n",
    "bases = ['sto3g', '631g', 'ccpVDZ']"
   ]
  },
  {
   "cell_type": "code",
   "execution_count": null,
   "metadata": {},
   "outputs": [],
   "source": [
    "# How the resource required by a quantum circuit scale with molecule size, for a given basis\n",
    "for m in molecules:\n",
    "    print(\"Molecule ---- \")\n",
    "    qc = UCCSD_qc((m, 'sto3g', UnitsType.ANGSTROM), active_occupied=[], active_unoccupied=[],\n",
    "                   map_type='parity', two_qubit_reduction=False,\n",
    "                   depth=1)\n",
    "    print(qc.width(), qc.depth(), qc.size())\n",
    "    print(qc.count_ops())"
   ]
  },
  {
   "cell_type": "code",
   "execution_count": null,
   "metadata": {},
   "outputs": [],
   "source": [
    "# How the resource required by a quantum circuit scale with basis size, for a given molecule\n",
    "for b in bases:\n",
    "    print(\"Quantum circuit for H2 in \", b, \" basis\")\n",
    "    qc = UCCSD_qc((H2, b, UnitsType.ANGSTROM), active_occupied=[], active_unoccupied=[],\n",
    "                   map_type='parity', two_qubit_reduction=False,\n",
    "                   depth=1)\n",
    "    print(qc.width(), qc.depth(), qc.size())\n",
    "    print(qc.count_ops())"
   ]
  },
  {
   "cell_type": "markdown",
   "metadata": {},
   "source": [
    "The code provides functions allowing to generate these UCCSD circuits for various molecules, basis sets and active spaces. The benchmark can be enriched by users, inputing their own problem and adding the corresponding circuit to the benchmark.\n",
    "\n",
    "This approach can be generalized easily to different ansatz, or active spaces, allowing the user to determine what is the best approach to running for example VQE. They could then identiify the feasible approaches on the target hardware, and the parameters yielding the most appealing performance-accuracy trade-off."
   ]
  },
  {
   "cell_type": "markdown",
   "metadata": {
    "slideshow": {
     "slide_type": "slide"
    }
   },
   "source": [
    "# Magic State Factory"
   ]
  },
  {
   "cell_type": "code",
   "execution_count": null,
   "metadata": {
    "slideshow": {
     "slide_type": "skip"
    }
   },
   "outputs": [],
   "source": [
    "from circuit_benchmarks.distillation_protocols import reed_muller_15"
   ]
  },
  {
   "cell_type": "code",
   "execution_count": null,
   "metadata": {
    "slideshow": {
     "slide_type": "subslide"
    }
   },
   "outputs": [],
   "source": [
    "f = reed_muller_15().draw(output='mpl')"
   ]
  },
  {
   "cell_type": "code",
   "execution_count": null,
   "metadata": {
    "slideshow": {
     "slide_type": "subslide"
    }
   },
   "outputs": [],
   "source": [
    "f"
   ]
  }
 ],
 "metadata": {
  "celltoolbar": "Slideshow",
  "kernelspec": {
   "display_name": "Python 3",
   "language": "python",
   "name": "python3"
  },
  "language_info": {
   "codemirror_mode": {
    "name": "ipython",
    "version": 3
   },
   "file_extension": ".py",
   "mimetype": "text/x-python",
   "name": "python",
   "nbconvert_exporter": "python",
   "pygments_lexer": "ipython3",
   "version": "3.7.2"
  }
 },
 "nbformat": 4,
 "nbformat_minor": 2
}
